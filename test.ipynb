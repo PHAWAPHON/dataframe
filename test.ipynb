{
 "cells": [
  {
   "cell_type": "code",
   "execution_count": 14,
   "metadata": {},
   "outputs": [
    {
     "name": "stdout",
     "output_type": "stream",
     "text": [
      "  key  value1\n",
      "0   A       1\n",
      "1   B       2\n",
      "2   C       3\n",
      "3   D       4\n",
      "  key  value2\n",
      "0   A       5\n",
      "1   B       6\n",
      "2   E       7\n",
      "3   F       8\n"
     ]
    }
   ],
   "source": [
    "import pandas as pd\n",
    "\n",
    "# สร้าง DataFrame แรก\n",
    "df1 = pd.DataFrame({\n",
    "    'key': ['A', 'B', 'C', 'D'],\n",
    "    'value1': [1, 2, 3, 4]\n",
    "})\n",
    "\n",
    "# สร้าง DataFrame ที่สอง\n",
    "df2 = pd.DataFrame({\n",
    "    'key': ['A', 'B', 'E', 'F'],\n",
    "    'value2': [5, 6, 7, 8]\n",
    "})\n",
    "\n",
    "print(df1)\n",
    "print(df2)\n"
   ]
  },
  {
   "cell_type": "code",
   "execution_count": 15,
   "metadata": {},
   "outputs": [
    {
     "name": "stdout",
     "output_type": "stream",
     "text": [
      "Inner Join:\n",
      "   key  value1  value2\n",
      "0   A       1       5\n",
      "1   B       2       6\n",
      "\n",
      "Outer Join:\n",
      "   key  value1  value2\n",
      "0   A     1.0     5.0\n",
      "1   B     2.0     6.0\n",
      "2   C     3.0     NaN\n",
      "3   D     4.0     NaN\n",
      "4   E     NaN     7.0\n",
      "5   F     NaN     8.0\n"
     ]
    }
   ],
   "source": [
    "# รวม DataFrame ทั้งสองโดยใช้ 'key' เป็นคีย์ร่วม\n",
    "merged_df = pd.merge(df1, df2, on='key', how='inner')\n",
    "print(\"Inner Join:\\n\", merged_df)\n",
    "\n",
    "# รวม DataFrame ทั้งสองโดยใช้ 'key' เป็นคีย์ร่วม (Outer Join)\n",
    "outer_merged_df = pd.merge(df1, df2, on='key', how='outer')\n",
    "print(\"\\nOuter Join:\\n\", outer_merged_df)"
   ]
  },
  {
   "cell_type": "code",
   "execution_count": 16,
   "metadata": {},
   "outputs": [
    {
     "name": "stdout",
     "output_type": "stream",
     "text": [
      "Merged DataFrame with Missing Values:\n",
      "   key  value1  value2\n",
      "0   A     1.0     5.0\n",
      "1   B     2.0     6.0\n",
      "2   C     3.0     NaN\n",
      "3   D     4.0     NaN\n",
      "4   E     NaN     7.0\n",
      "5   F     NaN     8.0\n",
      "\n",
      "Filled Missing Values with 0:\n",
      "   key  value1  value2\n",
      "0   A     1.0     5.0\n",
      "1   B     2.0     6.0\n",
      "2   C     3.0     0.0\n",
      "3   D     4.0     0.0\n",
      "4   E     0.0     7.0\n",
      "5   F     0.0     8.0\n",
      "\n",
      "Filled Missing Values with Mean:\n",
      "   key  value1  value2\n",
      "0   A     1.0     5.0\n",
      "1   B     2.0     6.0\n",
      "2   C     3.0     6.5\n",
      "3   D     4.0     6.5\n",
      "4   E     2.5     7.0\n",
      "5   F     2.5     8.0\n",
      "\n",
      "Dropped Rows with Missing Values:\n",
      "   key  value1  value2\n",
      "0   A     1.0     5.0\n",
      "1   B     2.0     6.0\n"
     ]
    }
   ],
   "source": [
    "import pandas as pd\n",
    "\n",
    "# สร้าง DataFrame แรก\n",
    "df1 = pd.DataFrame({\n",
    "    'key': ['A', 'B', 'C', 'D'],\n",
    "    'value1': [1, 2, 3, 4]\n",
    "})\n",
    "\n",
    "# สร้าง DataFrame ที่สอง\n",
    "df2 = pd.DataFrame({\n",
    "    'key': ['A', 'B', 'E', 'F'],\n",
    "    'value2': [5, 6, 7, 8]\n",
    "})\n",
    "\n",
    "# รวม DataFrame ทั้งสองโดยใช้ 'key' เป็นคีย์ร่วม (Outer Join)\n",
    "merged_df = pd.merge(df1, df2, on='key', how='outer')\n",
    "print(\"Merged DataFrame with Missing Values:\\n\", merged_df)\n",
    "\n",
    "# เติมค่า missing values ด้วยค่าที่กำหนดเอง (เช่น 0)\n",
    "filled_df = merged_df.fillna(0)\n",
    "print(\"\\nFilled Missing Values with 0:\\n\", filled_df)\n",
    "\n",
    "# เติมค่า missing values ด้วยค่าเฉลี่ยของแต่ละคอลัมน์ตัวเลข\n",
    "numeric_cols = merged_df.select_dtypes(include=['number']).columns\n",
    "filled_mean_df = merged_df.copy()\n",
    "filled_mean_df[numeric_cols] = merged_df[numeric_cols].fillna(merged_df[numeric_cols].mean())\n",
    "print(\"\\nFilled Missing Values with Mean:\\n\", filled_mean_df)\n",
    "\n",
    "# ลบแถวที่มีค่า missing values\n",
    "dropped_df = merged_df.dropna()\n",
    "print(\"\\nDropped Rows with Missing Values:\\n\", dropped_df)\n"
   ]
  }
 ],
 "metadata": {
  "kernelspec": {
   "display_name": ".env",
   "language": "python",
   "name": "python3"
  },
  "language_info": {
   "codemirror_mode": {
    "name": "ipython",
    "version": 3
   },
   "file_extension": ".py",
   "mimetype": "text/x-python",
   "name": "python",
   "nbconvert_exporter": "python",
   "pygments_lexer": "ipython3",
   "version": "3.12.3"
  }
 },
 "nbformat": 4,
 "nbformat_minor": 2
}
